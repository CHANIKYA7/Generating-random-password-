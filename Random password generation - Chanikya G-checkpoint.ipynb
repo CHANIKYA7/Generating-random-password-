{
 "cells": [
  {
   "cell_type": "markdown",
   "id": "eaa0762c",
   "metadata": {},
   "source": [
    "# Generating random password  using random module"
   ]
  },
  {
   "cell_type": "code",
   "execution_count": 39,
   "id": "f16a7566",
   "metadata": {},
   "outputs": [
    {
     "name": "stdout",
     "output_type": "stream",
     "text": [
      "Enter the length of the password :8\n",
      "Your password is )wmSghOs\n"
     ]
    }
   ],
   "source": [
    "import random\n",
    "length_password = int(input(\"Enter the length of the password :\"))\n",
    "s1 = \"ABCDEFGHIJKLMNOPQRSTUVWXYZ\"\n",
    "s2 = s1.lower()\n",
    "s3 = \"1234567890\"\n",
    "s4 = \"!@#$%^&*()+/<>:{}[]\"\n",
    "s = s1+ s2+ s3+ s4\n",
    "temp = random.sample(s, length_password)\n",
    "a = \"\".join(temp)\n",
    "print(f\"Your password is {a}\")"
   ]
  },
  {
   "cell_type": "markdown",
   "id": "c66d9d37",
   "metadata": {},
   "source": [
    "# Generating random password using random module and string module"
   ]
  },
  {
   "cell_type": "code",
   "execution_count": 40,
   "id": "57f4de0b",
   "metadata": {},
   "outputs": [
    {
     "name": "stdout",
     "output_type": "stream",
     "text": [
      "enter the length of password: 8\n",
      " Your password isflSm8~Ds\n"
     ]
    }
   ],
   "source": [
    "import random\n",
    "import string\n",
    "length_password = int(input(\"enter the length of password: \"))\n",
    "lower = string.ascii_lowercase\n",
    "upper = string.ascii_uppercase\n",
    "digits = string.digits\n",
    "symbols = string.punctuation\n",
    "\n",
    "S = lower + upper + digits + symbols\n",
    "\n",
    "temp = random.sample(S, length_password)\n",
    "\n",
    "a = \"\".join(temp)\n",
    "\n",
    "print(f\" Your password is{a}\")"
   ]
  },
  {
   "cell_type": "code",
   "execution_count": null,
   "id": "fd7c46ca",
   "metadata": {},
   "outputs": [],
   "source": []
  }
 ],
 "metadata": {
  "kernelspec": {
   "display_name": "Python 3",
   "language": "python",
   "name": "python3"
  },
  "language_info": {
   "codemirror_mode": {
    "name": "ipython",
    "version": 3
   },
   "file_extension": ".py",
   "mimetype": "text/x-python",
   "name": "python",
   "nbconvert_exporter": "python",
   "pygments_lexer": "ipython3",
   "version": "3.8.11"
  }
 },
 "nbformat": 4,
 "nbformat_minor": 5
}
